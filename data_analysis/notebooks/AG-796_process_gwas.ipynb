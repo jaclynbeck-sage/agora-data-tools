{
 "cells": [
  {
   "cell_type": "markdown",
   "id": "5fa84b98",
   "metadata": {},
   "source": [
    "**Purpose:** Update https://www.synapse.org/#!Synapse:syn12514826 with new AD risk genes as identified by GWAS. \n",
    "\n",
    "This notebook ingests an Excel file of identified GWAS genes (https://adsp.niagads.org/index.php/gvc-top-hits-list/), queries Biomart for the Ensembl IDs of these genes, and writes the result to a csv file."
   ]
  },
  {
   "cell_type": "code",
   "execution_count": 1,
   "id": "21dcec29",
   "metadata": {},
   "outputs": [],
   "source": [
    "from os import name\n",
    "import pandas as pd # Requires install of package \"openpyxl\" for read_excel\n",
    "import requests\n",
    "from io import StringIO"
   ]
  },
  {
   "attachments": {},
   "cell_type": "markdown",
   "id": "a7a381a9",
   "metadata": {},
   "source": [
    "**The list of AD risk genes identified in GWAS studies** was downloaded as an Excel file from here: https://adsp.niagads.org/index.php/gvc-top-hits-list/\n",
    "\n",
    "The file contains 2 sheets:\n",
    "\n",
    "    table1 = Table 1: List of AD Loci with Genetic Evidence Compiled by ADSP Gene Verification Committee\n",
    "    table2 = Table 2: AD risk/protective causal genes\n",
    "    \n",
    "We want the genes from both tables. "
   ]
  },
  {
   "cell_type": "code",
   "execution_count": 2,
   "id": "1ff75703",
   "metadata": {},
   "outputs": [
    {
     "name": "stdout",
     "output_type": "stream",
     "text": [
      "(76, 5)\n",
      "(20, 4)\n"
     ]
    }
   ],
   "source": [
    "gwas = pd.read_excel(\"../input/gwas_gvc_compiled_list.xlsx\", sheet_name=[0,1], skiprows=1)\n",
    "print(gwas[0].shape)\n",
    "print(gwas[1].shape)"
   ]
  },
  {
   "cell_type": "markdown",
   "id": "0cfd5354",
   "metadata": {},
   "source": [
    "Concatenate the tables into one data frame."
   ]
  },
  {
   "cell_type": "code",
   "execution_count": 3,
   "id": "9c9dbb62",
   "metadata": {},
   "outputs": [
    {
     "name": "stdout",
     "output_type": "stream",
     "text": [
      "(96, 6)\n"
     ]
    },
    {
     "data": {
      "text/html": [
       "<div>\n",
       "<style scoped>\n",
       "    .dataframe tbody tr th:only-of-type {\n",
       "        vertical-align: middle;\n",
       "    }\n",
       "\n",
       "    .dataframe tbody tr th {\n",
       "        vertical-align: top;\n",
       "    }\n",
       "\n",
       "    .dataframe thead th {\n",
       "        text-align: right;\n",
       "    }\n",
       "</style>\n",
       "<table border=\"1\" class=\"dataframe\">\n",
       "  <thead>\n",
       "    <tr style=\"text-align: right;\">\n",
       "      <th></th>\n",
       "      <th></th>\n",
       "      <th>Number</th>\n",
       "      <th>Chr</th>\n",
       "      <th>Location (hg38)</th>\n",
       "      <th>SNV</th>\n",
       "      <th>Gene</th>\n",
       "      <th>Source</th>\n",
       "    </tr>\n",
       "  </thead>\n",
       "  <tbody>\n",
       "    <tr>\n",
       "      <th rowspan=\"5\" valign=\"top\">0</th>\n",
       "      <th>0</th>\n",
       "      <td>1</td>\n",
       "      <td>1.0</td>\n",
       "      <td>109345810</td>\n",
       "      <td>rs141749679</td>\n",
       "      <td>SORT1</td>\n",
       "      <td>NaN</td>\n",
       "    </tr>\n",
       "    <tr>\n",
       "      <th>1</th>\n",
       "      <td>2</td>\n",
       "      <td>1.0</td>\n",
       "      <td>207577223</td>\n",
       "      <td>rs679515</td>\n",
       "      <td>CR1</td>\n",
       "      <td>NaN</td>\n",
       "    </tr>\n",
       "    <tr>\n",
       "      <th>2</th>\n",
       "      <td>3</td>\n",
       "      <td>2.0</td>\n",
       "      <td>9558882</td>\n",
       "      <td>rs72777026</td>\n",
       "      <td>ADAM17</td>\n",
       "      <td>NaN</td>\n",
       "    </tr>\n",
       "    <tr>\n",
       "      <th>3</th>\n",
       "      <td>4</td>\n",
       "      <td>2.0</td>\n",
       "      <td>37304796</td>\n",
       "      <td>rs17020490</td>\n",
       "      <td>PRKD3</td>\n",
       "      <td>NaN</td>\n",
       "    </tr>\n",
       "    <tr>\n",
       "      <th>4</th>\n",
       "      <td>5</td>\n",
       "      <td>2.0</td>\n",
       "      <td>105749599</td>\n",
       "      <td>rs143080277</td>\n",
       "      <td>NCK2</td>\n",
       "      <td>NaN</td>\n",
       "    </tr>\n",
       "  </tbody>\n",
       "</table>\n",
       "</div>"
      ],
      "text/plain": [
       "     Number  Chr Location (hg38)          SNV    Gene Source\n",
       "0 0       1  1.0       109345810  rs141749679   SORT1    NaN\n",
       "  1       2  1.0       207577223     rs679515     CR1    NaN\n",
       "  2       3  2.0         9558882   rs72777026  ADAM17    NaN\n",
       "  3       4  2.0        37304796   rs17020490   PRKD3    NaN\n",
       "  4       5  2.0       105749599  rs143080277    NCK2    NaN"
      ]
     },
     "execution_count": 3,
     "metadata": {},
     "output_type": "execute_result"
    }
   ],
   "source": [
    "gwas[0] = gwas[0].rename(columns={\"Reported Gene/ Closest gene\": \"Gene\"})\n",
    "gwas_df = pd.concat(gwas, axis = 0)\n",
    "print(gwas_df.shape)\n",
    "gwas_df.head()"
   ]
  },
  {
   "cell_type": "markdown",
   "id": "444960bc",
   "metadata": {},
   "source": [
    "Query Ensembl for a list of Ensembl IDs that match the gene symbols in this table. Normally I like to use the pybiomart library for queries, but there is a bug in the library that doesn't allow searching on external_gene_name. So we manually make the request. See http://uswest.ensembl.org/info/data/biomart/biomart_restful.html"
   ]
  },
  {
   "cell_type": "code",
   "execution_count": 4,
   "id": "6aaf69e3",
   "metadata": {},
   "outputs": [
    {
     "data": {
      "text/html": [
       "<div>\n",
       "<style scoped>\n",
       "    .dataframe tbody tr th:only-of-type {\n",
       "        vertical-align: middle;\n",
       "    }\n",
       "\n",
       "    .dataframe tbody tr th {\n",
       "        vertical-align: top;\n",
       "    }\n",
       "\n",
       "    .dataframe thead th {\n",
       "        text-align: right;\n",
       "    }\n",
       "</style>\n",
       "<table border=\"1\" class=\"dataframe\">\n",
       "  <thead>\n",
       "    <tr style=\"text-align: right;\">\n",
       "      <th></th>\n",
       "      <th>ensembl_gene_id</th>\n",
       "      <th>hgnc_symbol</th>\n",
       "    </tr>\n",
       "  </thead>\n",
       "  <tbody>\n",
       "    <tr>\n",
       "      <th>0</th>\n",
       "      <td>ENSG00000277751</td>\n",
       "      <td>LILRB2</td>\n",
       "    </tr>\n",
       "    <tr>\n",
       "      <th>1</th>\n",
       "      <td>ENSG00000277641</td>\n",
       "      <td>WNT3</td>\n",
       "    </tr>\n",
       "    <tr>\n",
       "      <th>2</th>\n",
       "      <td>ENSG00000275463</td>\n",
       "      <td>LILRB2</td>\n",
       "    </tr>\n",
       "    <tr>\n",
       "      <th>3</th>\n",
       "      <td>ENSG00000274513</td>\n",
       "      <td>LILRB2</td>\n",
       "    </tr>\n",
       "    <tr>\n",
       "      <th>4</th>\n",
       "      <td>ENSG00000276021</td>\n",
       "      <td>WDR81</td>\n",
       "    </tr>\n",
       "    <tr>\n",
       "      <th>...</th>\n",
       "      <td>...</td>\n",
       "      <td>...</td>\n",
       "    </tr>\n",
       "    <tr>\n",
       "      <th>96</th>\n",
       "      <td>ENSG00000138442</td>\n",
       "      <td>WDR12</td>\n",
       "    </tr>\n",
       "    <tr>\n",
       "      <th>97</th>\n",
       "      <td>ENSG00000005379</td>\n",
       "      <td>TSPOAP1</td>\n",
       "    </tr>\n",
       "    <tr>\n",
       "      <th>98</th>\n",
       "      <td>ENSG00000151694</td>\n",
       "      <td>ADAM17</td>\n",
       "    </tr>\n",
       "    <tr>\n",
       "      <th>99</th>\n",
       "      <td>ENSG00000134243</td>\n",
       "      <td>SORT1</td>\n",
       "    </tr>\n",
       "    <tr>\n",
       "      <th>100</th>\n",
       "      <td>ENSG00000203710</td>\n",
       "      <td>CR1</td>\n",
       "    </tr>\n",
       "  </tbody>\n",
       "</table>\n",
       "<p>101 rows × 2 columns</p>\n",
       "</div>"
      ],
      "text/plain": [
       "     ensembl_gene_id hgnc_symbol\n",
       "0    ENSG00000277751      LILRB2\n",
       "1    ENSG00000277641        WNT3\n",
       "2    ENSG00000275463      LILRB2\n",
       "3    ENSG00000274513      LILRB2\n",
       "4    ENSG00000276021       WDR81\n",
       "..               ...         ...\n",
       "96   ENSG00000138442       WDR12\n",
       "97   ENSG00000005379     TSPOAP1\n",
       "98   ENSG00000151694      ADAM17\n",
       "99   ENSG00000134243       SORT1\n",
       "100  ENSG00000203710         CR1\n",
       "\n",
       "[101 rows x 2 columns]"
      ]
     },
     "execution_count": 4,
     "metadata": {},
     "output_type": "execute_result"
    }
   ],
   "source": [
    "attributes = ['ensembl_gene_id', 'external_gene_name']\n",
    "filters = {'external_gene_name': set(gwas_df['Gene'])}\n",
    "\n",
    "query = '<Query  virtualSchemaName = \"default\" formatter = \"TSV\" header = \"1\" uniqueRows = \"0\" count = \"\" datasetConfigVersion = \"0.6\" >'\n",
    "query = query + '<Dataset name = \"hsapiens_gene_ensembl\" interface = \"default\" >'\n",
    "\n",
    "for name, value in filters.items():\n",
    "    query = query + '<Filter name = \"' + name + '\" value = \"' + \",\".join(value) + '\"/>'\n",
    "\n",
    "for attr in attributes:\n",
    "    query = query + '<Attribute name = \"' + attr + '\" />'\n",
    "\n",
    "query = query + '</Dataset>'\n",
    "query = query + '</Query>'\n",
    "    \n",
    "response = requests.get(url = 'http://www.ensembl.org/biomart/martservice', params = {'query': query})\n",
    "\n",
    "result = pd.read_csv(StringIO(response.text), sep = \"\\t\")\n",
    "result = result.rename(columns = {'Gene stable ID': 'ensembl_gene_id', 'Gene name': 'hgnc_symbol'})\n",
    "result"
   ]
  },
  {
   "cell_type": "markdown",
   "id": "c03449cc",
   "metadata": {},
   "source": [
    "Check: The output should contain every gene in the GWAS input. "
   ]
  },
  {
   "cell_type": "code",
   "execution_count": 5,
   "id": "17ece4ec",
   "metadata": {},
   "outputs": [
    {
     "name": "stdout",
     "output_type": "stream",
     "text": [
      "86\n",
      "86\n",
      "True\n"
     ]
    }
   ],
   "source": [
    "print(len(set(gwas_df['Gene'])))\n",
    "print(len(list(set(gwas_df['Gene']) & set(result['hgnc_symbol']))))\n",
    "print(all(elem in set(result['hgnc_symbol']) for elem in set(gwas_df['Gene'])))"
   ]
  },
  {
   "cell_type": "markdown",
   "id": "394c1268",
   "metadata": {},
   "source": [
    "Write to file. Note: Some gene symbols map to multiple Ensembl IDs -- and that's okay. "
   ]
  },
  {
   "cell_type": "code",
   "execution_count": 6,
   "id": "3c845b0a",
   "metadata": {},
   "outputs": [],
   "source": [
    "result.to_csv('../output/igap_genetic_association_genes_2022.csv', index = False, header = True)"
   ]
  }
 ],
 "metadata": {
  "kernelspec": {
   "display_name": "Python [conda env:agora]",
   "language": "python",
   "name": "conda-env-agora-py"
  },
  "language_info": {
   "codemirror_mode": {
    "name": "ipython",
    "version": 3
   },
   "file_extension": ".py",
   "mimetype": "text/x-python",
   "name": "python",
   "nbconvert_exporter": "python",
   "pygments_lexer": "ipython3",
   "version": "3.10.4"
  }
 },
 "nbformat": 4,
 "nbformat_minor": 5
}
