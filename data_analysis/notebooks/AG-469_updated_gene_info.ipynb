{
 "cells": [
  {
   "cell_type": "code",
   "execution_count": 1,
   "metadata": {
    "pycharm": {
     "name": "#%%\n"
    }
   },
   "outputs": [],
   "source": [
    "from os import name\n",
    "import pandas as pd\n",
    "import mygene\n",
    "import numpy as np\n",
    "from pybiomart import Server"
   ]
  },
  {
   "cell_type": "markdown",
   "metadata": {},
   "source": [
    "### Query Ensembl for a list of all Ensembl IDs in the database of human genes. "
   ]
  },
  {
   "cell_type": "code",
   "execution_count": 2,
   "metadata": {},
   "outputs": [
    {
     "data": {
      "text/plain": [
       "(69292, 1)"
      ]
     },
     "execution_count": 2,
     "metadata": {},
     "output_type": "execute_result"
    }
   ],
   "source": [
    "server = Server(host='http://www.ensembl.org', use_cache = False)\n",
    "\n",
    "dataset = (server.marts['ENSEMBL_MART_ENSEMBL']\n",
    "                 .datasets['hsapiens_gene_ensembl'])\n",
    "\n",
    "ensemblIds = dataset.query(attributes=['ensembl_gene_id'])\n",
    "ensemblIds = ensemblIds.rename(columns={\"Gene stable ID\": \"ensembl_gene_id\"})\n",
    "\n",
    "ensemblIds.to_csv(\"../output/agora_ensg_list.txt\", index = False, header = False)\n",
    "\n",
    "ensemblIds.shape"
   ]
  },
  {
   "cell_type": "markdown",
   "metadata": {},
   "source": [
    "### Get info on each gene from mygene"
   ]
  },
  {
   "cell_type": "code",
   "execution_count": 3,
   "metadata": {
    "pycharm": {
     "is_executing": true,
     "name": "#%%\n"
    },
    "scrolled": true
   },
   "outputs": [
    {
     "name": "stdout",
     "output_type": "stream",
     "text": [
      "querying 1-1000...done.\n",
      "querying 1001-2000...done.\n",
      "querying 2001-3000...done.\n",
      "querying 3001-4000...done.\n",
      "querying 4001-5000...done.\n",
      "querying 5001-6000...done.\n",
      "querying 6001-7000...done.\n",
      "querying 7001-8000...done.\n",
      "querying 8001-9000...done.\n",
      "querying 9001-10000...done.\n",
      "querying 10001-11000...done.\n",
      "querying 11001-12000...done.\n",
      "querying 12001-13000...done.\n",
      "querying 13001-14000...done.\n",
      "querying 14001-15000...done.\n",
      "querying 15001-16000...done.\n",
      "querying 16001-17000...done.\n",
      "querying 17001-18000...done.\n",
      "querying 18001-19000...done.\n",
      "querying 19001-20000...done.\n",
      "querying 20001-21000...done.\n",
      "querying 21001-22000...done.\n",
      "querying 22001-23000...done.\n",
      "querying 23001-24000...done.\n",
      "querying 24001-25000...done.\n",
      "querying 25001-26000...done.\n",
      "querying 26001-27000...done.\n",
      "querying 27001-28000...done.\n",
      "querying 28001-29000...done.\n",
      "querying 29001-30000...done.\n",
      "querying 30001-31000...done.\n",
      "querying 31001-32000...done.\n",
      "querying 32001-33000...done.\n",
      "querying 33001-34000...done.\n",
      "querying 34001-35000...done.\n",
      "querying 35001-36000...done.\n",
      "querying 36001-37000...done.\n",
      "querying 37001-38000...done.\n",
      "querying 38001-39000...done.\n",
      "querying 39001-40000...done.\n",
      "querying 40001-41000...done.\n",
      "querying 41001-42000...done.\n",
      "querying 42001-43000...done.\n",
      "querying 43001-44000...done.\n",
      "querying 44001-45000...done.\n",
      "querying 45001-46000...done.\n",
      "querying 46001-47000...done.\n",
      "querying 47001-48000...done.\n",
      "querying 48001-49000...done.\n",
      "querying 49001-50000...done.\n",
      "querying 50001-51000...done.\n",
      "querying 51001-52000...done.\n",
      "querying 52001-53000...done.\n",
      "querying 53001-54000...done.\n",
      "querying 54001-55000...done.\n",
      "querying 55001-56000...done.\n",
      "querying 56001-57000...done.\n",
      "querying 57001-58000...done.\n",
      "querying 58001-59000...done.\n",
      "querying 59001-60000...done.\n",
      "querying 60001-61000...done.\n",
      "querying 61001-62000...done.\n",
      "querying 62001-63000...done.\n",
      "querying 63001-64000...done.\n",
      "querying 64001-65000...done.\n",
      "querying 65001-66000...done.\n",
      "querying 66001-67000...done.\n",
      "querying 67001-68000...done.\n",
      "querying 68001-69000...done.\n",
      "querying 69001-69292...done.\n"
     ]
    },
    {
     "data": {
      "text/html": [
       "<div>\n",
       "<style scoped>\n",
       "    .dataframe tbody tr th:only-of-type {\n",
       "        vertical-align: middle;\n",
       "    }\n",
       "\n",
       "    .dataframe tbody tr th {\n",
       "        vertical-align: top;\n",
       "    }\n",
       "\n",
       "    .dataframe thead th {\n",
       "        text-align: right;\n",
       "    }\n",
       "</style>\n",
       "<table border=\"1\" class=\"dataframe\">\n",
       "  <thead>\n",
       "    <tr style=\"text-align: right;\">\n",
       "      <th></th>\n",
       "      <th>_id</th>\n",
       "      <th>_version</th>\n",
       "      <th>alias</th>\n",
       "      <th>name</th>\n",
       "      <th>summary</th>\n",
       "      <th>symbol</th>\n",
       "      <th>type_of_gene</th>\n",
       "      <th>notfound</th>\n",
       "    </tr>\n",
       "    <tr>\n",
       "      <th>ensembl_gene_id</th>\n",
       "      <th></th>\n",
       "      <th></th>\n",
       "      <th></th>\n",
       "      <th></th>\n",
       "      <th></th>\n",
       "      <th></th>\n",
       "      <th></th>\n",
       "      <th></th>\n",
       "    </tr>\n",
       "  </thead>\n",
       "  <tbody>\n",
       "    <tr>\n",
       "      <th>ENSG00000000003</th>\n",
       "      <td>7105</td>\n",
       "      <td>1.0</td>\n",
       "      <td>[T245, TM4SF6, TSPAN-6]</td>\n",
       "      <td>tetraspanin 6</td>\n",
       "      <td>The protein encoded by this gene is a member o...</td>\n",
       "      <td>TSPAN6</td>\n",
       "      <td>protein-coding</td>\n",
       "      <td>NaN</td>\n",
       "    </tr>\n",
       "    <tr>\n",
       "      <th>ENSG00000000005</th>\n",
       "      <td>64102</td>\n",
       "      <td>1.0</td>\n",
       "      <td>[BRICD4, CHM1L, TEM]</td>\n",
       "      <td>tenomodulin</td>\n",
       "      <td>This gene encodes a protein that is related to...</td>\n",
       "      <td>TNMD</td>\n",
       "      <td>protein-coding</td>\n",
       "      <td>NaN</td>\n",
       "    </tr>\n",
       "    <tr>\n",
       "      <th>ENSG00000000419</th>\n",
       "      <td>8813</td>\n",
       "      <td>1.0</td>\n",
       "      <td>[CDGIE, MPDS]</td>\n",
       "      <td>dolichyl-phosphate mannosyltransferase subunit...</td>\n",
       "      <td>Dolichol-phosphate mannose (Dol-P-Man) serves ...</td>\n",
       "      <td>DPM1</td>\n",
       "      <td>protein-coding</td>\n",
       "      <td>NaN</td>\n",
       "    </tr>\n",
       "    <tr>\n",
       "      <th>ENSG00000000457</th>\n",
       "      <td>57147</td>\n",
       "      <td>1.0</td>\n",
       "      <td>[PACE-1, PACE1]</td>\n",
       "      <td>SCY1 like pseudokinase 3</td>\n",
       "      <td>This gene encodes a protein with a kinase doma...</td>\n",
       "      <td>SCYL3</td>\n",
       "      <td>protein-coding</td>\n",
       "      <td>NaN</td>\n",
       "    </tr>\n",
       "    <tr>\n",
       "      <th>ENSG00000000460</th>\n",
       "      <td>55732</td>\n",
       "      <td>1.0</td>\n",
       "      <td>NaN</td>\n",
       "      <td>chromosome 1 open reading frame 112</td>\n",
       "      <td>NaN</td>\n",
       "      <td>C1orf112</td>\n",
       "      <td>protein-coding</td>\n",
       "      <td>NaN</td>\n",
       "    </tr>\n",
       "  </tbody>\n",
       "</table>\n",
       "</div>"
      ],
      "text/plain": [
       "                   _id  _version                    alias  \\\n",
       "ensembl_gene_id                                             \n",
       "ENSG00000000003   7105       1.0  [T245, TM4SF6, TSPAN-6]   \n",
       "ENSG00000000005  64102       1.0     [BRICD4, CHM1L, TEM]   \n",
       "ENSG00000000419   8813       1.0            [CDGIE, MPDS]   \n",
       "ENSG00000000457  57147       1.0          [PACE-1, PACE1]   \n",
       "ENSG00000000460  55732       1.0                      NaN   \n",
       "\n",
       "                                                              name  \\\n",
       "ensembl_gene_id                                                      \n",
       "ENSG00000000003                                      tetraspanin 6   \n",
       "ENSG00000000005                                        tenomodulin   \n",
       "ENSG00000000419  dolichyl-phosphate mannosyltransferase subunit...   \n",
       "ENSG00000000457                           SCY1 like pseudokinase 3   \n",
       "ENSG00000000460                chromosome 1 open reading frame 112   \n",
       "\n",
       "                                                           summary    symbol  \\\n",
       "ensembl_gene_id                                                                \n",
       "ENSG00000000003  The protein encoded by this gene is a member o...    TSPAN6   \n",
       "ENSG00000000005  This gene encodes a protein that is related to...      TNMD   \n",
       "ENSG00000000419  Dolichol-phosphate mannose (Dol-P-Man) serves ...      DPM1   \n",
       "ENSG00000000457  This gene encodes a protein with a kinase doma...     SCYL3   \n",
       "ENSG00000000460                                                NaN  C1orf112   \n",
       "\n",
       "                   type_of_gene notfound  \n",
       "ensembl_gene_id                           \n",
       "ENSG00000000003  protein-coding      NaN  \n",
       "ENSG00000000005  protein-coding      NaN  \n",
       "ENSG00000000419  protein-coding      NaN  \n",
       "ENSG00000000457  protein-coding      NaN  \n",
       "ENSG00000000460  protein-coding      NaN  "
      ]
     },
     "execution_count": 3,
     "metadata": {},
     "output_type": "execute_result"
    }
   ],
   "source": [
    "mg = mygene.MyGeneInfo()\n",
    "\n",
    "bioconductor_gene_info = mg.getgenes(ensemblIds['ensembl_gene_id'], fields=[\"symbol\", \"name\", \"summary\", \"type_of_gene\", \"alias\"], as_dataframe=True)\n",
    "bioconductor_gene_info.index.rename(\"ensembl_gene_id\", inplace=True)\n",
    "bioconductor_gene_info.head()"
   ]
  },
  {
   "cell_type": "code",
   "execution_count": 4,
   "metadata": {},
   "outputs": [
    {
     "data": {
      "text/plain": [
       "_id                0\n",
       "_version           0\n",
       "alias              0\n",
       "name               0\n",
       "summary            0\n",
       "symbol             0\n",
       "type_of_gene       0\n",
       "notfound        1009\n",
       "dtype: int64"
      ]
     },
     "execution_count": 4,
     "metadata": {},
     "output_type": "execute_result"
    }
   ],
   "source": [
    "bioconductor_gene_info[bioconductor_gene_info['notfound'] == True].count()"
   ]
  },
  {
   "cell_type": "code",
   "execution_count": 5,
   "metadata": {
    "scrolled": true
   },
   "outputs": [
    {
     "data": {
      "text/plain": [
       "_id             68285\n",
       "_version        68285\n",
       "alias           25983\n",
       "name            49219\n",
       "summary         24431\n",
       "symbol          49219\n",
       "type_of_gene    39574\n",
       "notfound            0\n",
       "dtype: int64"
      ]
     },
     "execution_count": 5,
     "metadata": {},
     "output_type": "execute_result"
    }
   ],
   "source": [
    "bioconductor_gene_info[bioconductor_gene_info['notfound'].isna()].count()"
   ]
  },
  {
   "cell_type": "code",
   "execution_count": 6,
   "metadata": {},
   "outputs": [
    {
     "data": {
      "text/plain": [
       "Index(['_id', '_version', 'alias', 'name', 'summary', 'symbol', 'type_of_gene',\n",
       "       'notfound'],\n",
       "      dtype='object')"
      ]
     },
     "execution_count": 6,
     "metadata": {},
     "output_type": "execute_result"
    }
   ],
   "source": [
    "bioconductor_gene_info.columns"
   ]
  },
  {
   "cell_type": "markdown",
   "metadata": {},
   "source": [
    "### We join, and then stardardize our datasets:"
   ]
  },
  {
   "cell_type": "code",
   "execution_count": 7,
   "metadata": {
    "pycharm": {
     "is_executing": true,
     "name": "#%%\n"
    }
   },
   "outputs": [
    {
     "data": {
      "text/plain": [
       "(69294, 9)"
      ]
     },
     "execution_count": 7,
     "metadata": {},
     "output_type": "execute_result"
    }
   ],
   "source": [
    "gene_table_merged = pd.merge(left=ensemblIds, right=bioconductor_gene_info, how='left', on=\"ensembl_gene_id\")\n",
    "gene_table_merged.columns = gene_table_merged.columns.str.replace(\"[#,@,&,*,^,?,(,),%,$,#,!,/]\", \"\", regex = True)\n",
    "gene_table_merged.columns = gene_table_merged.columns.str.replace(\"[' ', '-', '.']\", \"_\", regex = True)\n",
    "gene_table_merged.columns = map(str.lower, gene_table_merged.columns)\n",
    "\n",
    "gene_table_merged.shape"
   ]
  },
  {
   "cell_type": "code",
   "execution_count": 8,
   "metadata": {},
   "outputs": [
    {
     "data": {
      "text/plain": [
       "Index(['ensembl_gene_id', '_id', '_version', 'alias', 'name', 'summary',\n",
       "       'symbol', 'type_of_gene', 'notfound'],\n",
       "      dtype='object')"
      ]
     },
     "execution_count": 8,
     "metadata": {},
     "output_type": "execute_result"
    }
   ],
   "source": [
    "gene_table_merged.columns"
   ]
  },
  {
   "cell_type": "code",
   "execution_count": 9,
   "metadata": {},
   "outputs": [
    {
     "data": {
      "text/html": [
       "<div>\n",
       "<style scoped>\n",
       "    .dataframe tbody tr th:only-of-type {\n",
       "        vertical-align: middle;\n",
       "    }\n",
       "\n",
       "    .dataframe tbody tr th {\n",
       "        vertical-align: top;\n",
       "    }\n",
       "\n",
       "    .dataframe thead th {\n",
       "        text-align: right;\n",
       "    }\n",
       "</style>\n",
       "<table border=\"1\" class=\"dataframe\">\n",
       "  <thead>\n",
       "    <tr style=\"text-align: right;\">\n",
       "      <th></th>\n",
       "      <th>ensembl_gene_id</th>\n",
       "      <th>_id</th>\n",
       "      <th>_version</th>\n",
       "      <th>alias</th>\n",
       "      <th>name</th>\n",
       "      <th>summary</th>\n",
       "      <th>symbol</th>\n",
       "      <th>type_of_gene</th>\n",
       "      <th>notfound</th>\n",
       "    </tr>\n",
       "  </thead>\n",
       "  <tbody>\n",
       "    <tr>\n",
       "      <th>0</th>\n",
       "      <td>ENSG00000000003</td>\n",
       "      <td>7105</td>\n",
       "      <td>1.0</td>\n",
       "      <td>[T245, TM4SF6, TSPAN-6]</td>\n",
       "      <td>tetraspanin 6</td>\n",
       "      <td>The protein encoded by this gene is a member o...</td>\n",
       "      <td>TSPAN6</td>\n",
       "      <td>protein-coding</td>\n",
       "      <td>NaN</td>\n",
       "    </tr>\n",
       "    <tr>\n",
       "      <th>1</th>\n",
       "      <td>ENSG00000000005</td>\n",
       "      <td>64102</td>\n",
       "      <td>1.0</td>\n",
       "      <td>[BRICD4, CHM1L, TEM]</td>\n",
       "      <td>tenomodulin</td>\n",
       "      <td>This gene encodes a protein that is related to...</td>\n",
       "      <td>TNMD</td>\n",
       "      <td>protein-coding</td>\n",
       "      <td>NaN</td>\n",
       "    </tr>\n",
       "    <tr>\n",
       "      <th>2</th>\n",
       "      <td>ENSG00000000419</td>\n",
       "      <td>8813</td>\n",
       "      <td>1.0</td>\n",
       "      <td>[CDGIE, MPDS]</td>\n",
       "      <td>dolichyl-phosphate mannosyltransferase subunit...</td>\n",
       "      <td>Dolichol-phosphate mannose (Dol-P-Man) serves ...</td>\n",
       "      <td>DPM1</td>\n",
       "      <td>protein-coding</td>\n",
       "      <td>NaN</td>\n",
       "    </tr>\n",
       "    <tr>\n",
       "      <th>3</th>\n",
       "      <td>ENSG00000000457</td>\n",
       "      <td>57147</td>\n",
       "      <td>1.0</td>\n",
       "      <td>[PACE-1, PACE1]</td>\n",
       "      <td>SCY1 like pseudokinase 3</td>\n",
       "      <td>This gene encodes a protein with a kinase doma...</td>\n",
       "      <td>SCYL3</td>\n",
       "      <td>protein-coding</td>\n",
       "      <td>NaN</td>\n",
       "    </tr>\n",
       "    <tr>\n",
       "      <th>4</th>\n",
       "      <td>ENSG00000000460</td>\n",
       "      <td>55732</td>\n",
       "      <td>1.0</td>\n",
       "      <td>NaN</td>\n",
       "      <td>chromosome 1 open reading frame 112</td>\n",
       "      <td>NaN</td>\n",
       "      <td>C1orf112</td>\n",
       "      <td>protein-coding</td>\n",
       "      <td>NaN</td>\n",
       "    </tr>\n",
       "  </tbody>\n",
       "</table>\n",
       "</div>"
      ],
      "text/plain": [
       "   ensembl_gene_id    _id  _version                    alias  \\\n",
       "0  ENSG00000000003   7105       1.0  [T245, TM4SF6, TSPAN-6]   \n",
       "1  ENSG00000000005  64102       1.0     [BRICD4, CHM1L, TEM]   \n",
       "2  ENSG00000000419   8813       1.0            [CDGIE, MPDS]   \n",
       "3  ENSG00000000457  57147       1.0          [PACE-1, PACE1]   \n",
       "4  ENSG00000000460  55732       1.0                      NaN   \n",
       "\n",
       "                                                name  \\\n",
       "0                                      tetraspanin 6   \n",
       "1                                        tenomodulin   \n",
       "2  dolichyl-phosphate mannosyltransferase subunit...   \n",
       "3                           SCY1 like pseudokinase 3   \n",
       "4                chromosome 1 open reading frame 112   \n",
       "\n",
       "                                             summary    symbol  \\\n",
       "0  The protein encoded by this gene is a member o...    TSPAN6   \n",
       "1  This gene encodes a protein that is related to...      TNMD   \n",
       "2  Dolichol-phosphate mannose (Dol-P-Man) serves ...      DPM1   \n",
       "3  This gene encodes a protein with a kinase doma...     SCYL3   \n",
       "4                                                NaN  C1orf112   \n",
       "\n",
       "     type_of_gene notfound  \n",
       "0  protein-coding      NaN  \n",
       "1  protein-coding      NaN  \n",
       "2  protein-coding      NaN  \n",
       "3  protein-coding      NaN  \n",
       "4  protein-coding      NaN  "
      ]
     },
     "execution_count": 9,
     "metadata": {},
     "output_type": "execute_result"
    }
   ],
   "source": [
    "gene_table_merged.head()"
   ]
  },
  {
   "cell_type": "markdown",
   "metadata": {},
   "source": [
    "### Clean the data\n",
    "Fix NULL values in the \"alias\" field and make sure every alias value is a list, not a string."
   ]
  },
  {
   "cell_type": "code",
   "execution_count": 10,
   "metadata": {},
   "outputs": [],
   "source": [
    "# NULL alias values become empty lists\n",
    "for row in gene_table_merged.loc[gene_table_merged['alias'].isnull(), 'alias'].index:\n",
    "    gene_table_merged.at[row, 'alias'] = []\n",
    "\n",
    "# Some alias values are a single string, not a list. Turn them into lists here.\n",
    "gene_table_merged['alias'] = gene_table_merged['alias'].apply(lambda cell: cell if isinstance(cell, list) else [cell])"
   ]
  },
  {
   "cell_type": "markdown",
   "metadata": {},
   "source": [
    "### Remove duplicate Ensembl IDs from the list. \n",
    "\n",
    "Duplicates in the list typically have the same Ensembl ID but different gene symbols. There's not a good way to reconcile this, so just use the first entry in the list for each ensembl ID and discard the rest, which is what the Agora front end does. The gene symbols of duplicate rows are then added as aliases to the matching unique row."
   ]
  },
  {
   "cell_type": "code",
   "execution_count": 11,
   "metadata": {
    "pycharm": {
     "is_executing": true,
     "name": "#%%\n"
    },
    "scrolled": true
   },
   "outputs": [
    {
     "name": "stdout",
     "output_type": "stream",
     "text": [
      "(69292, 10)\n"
     ]
    }
   ],
   "source": [
    "# duplicated() will return true if the ID is a duplicate and is not the first one to appear the list. \n",
    "dupes = gene_table_merged['ensembl_gene_id'].duplicated()\n",
    "dupe_vals = gene_table_merged[dupes]\n",
    "\n",
    "# Remove duplicates from the list\n",
    "gene_table_merged = gene_table_merged[dupes == False].reset_index()\n",
    "\n",
    "# For each duplicate row, add its symbol as an alias\n",
    "for row in dupe_vals.index:\n",
    "    match = gene_table_merged['ensembl_gene_id'] == dupe_vals['ensembl_gene_id'][row]\n",
    "    match_ind = gene_table_merged[match].index[0] # There should only be one row\n",
    "\n",
    "    # Add the duplicate's symbol to the alias list\n",
    "    gene_table_merged.at[match_ind, 'alias'].append(dupe_vals['symbol'][row])\n",
    "    \n",
    "    # Make sure we didn't add duplicate aliases\n",
    "    gene_table_merged.at[match_ind, 'alias'] = list(set(gene_table_merged.at[match_ind, 'alias']))\n",
    "\n",
    "print(gene_table_merged.shape)"
   ]
  },
  {
   "cell_type": "markdown",
   "metadata": {},
   "source": [
    "### Write to a file\n",
    "This will get uploaded to Synapse as [syn25953363](https://www.synapse.org/#!Synapse:syn25953363)."
   ]
  },
  {
   "cell_type": "code",
   "execution_count": 12,
   "metadata": {},
   "outputs": [],
   "source": [
    "gene_table_merged.to_feather('../output/gene_table_merged_GRCh38.p13.feather')"
   ]
  }
 ],
 "metadata": {
  "kernelspec": {
   "display_name": "Python [conda env:agora]",
   "language": "python",
   "name": "conda-env-agora-py"
  },
  "language_info": {
   "codemirror_mode": {
    "name": "ipython",
    "version": 3
   },
   "file_extension": ".py",
   "mimetype": "text/x-python",
   "name": "python",
   "nbconvert_exporter": "python",
   "pygments_lexer": "ipython3",
   "version": "3.10.4"
  }
 },
 "nbformat": 4,
 "nbformat_minor": 1
}
