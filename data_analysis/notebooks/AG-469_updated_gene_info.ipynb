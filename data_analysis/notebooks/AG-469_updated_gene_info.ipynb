{
 "cells": [
  {
   "cell_type": "code",
   "execution_count": 1,
   "metadata": {
    "pycharm": {
     "name": "#%%\n"
    }
   },
   "outputs": [],
   "source": [
    "from os import name\n",
    "import pandas as pd\n",
    "import mygene\n",
    "import numpy as np\n",
    "from pybiomart import Server"
   ]
  },
  {
   "cell_type": "markdown",
   "metadata": {},
   "source": [
    "Query Ensembl for a list of all Ensembl IDs in the database of human genes. "
   ]
  },
  {
   "cell_type": "code",
   "execution_count": 2,
   "metadata": {},
   "outputs": [
    {
     "data": {
      "text/plain": [
       "(68324, 1)"
      ]
     },
     "execution_count": 2,
     "metadata": {},
     "output_type": "execute_result"
    }
   ],
   "source": [
    "server = Server(host='http://www.ensembl.org')\n",
    "\n",
    "dataset = (server.marts['ENSEMBL_MART_ENSEMBL']\n",
    "                 .datasets['hsapiens_gene_ensembl'])\n",
    "\n",
    "ensemblIds = dataset.query(attributes=['ensembl_gene_id'])\n",
    "ensemblIds = ensemblIds.rename(columns={\"Gene stable ID\": \"ensembl_gene_id\"})\n",
    "\n",
    "ensemblIds.to_csv(\"../output/agora_ensg_list.txt\", index = False, header = False)\n",
    "\n",
    "ensemblIds.shape"
   ]
  },
  {
   "cell_type": "markdown",
   "metadata": {},
   "source": [
    "Get info on each gene from mygene"
   ]
  },
  {
   "cell_type": "code",
   "execution_count": 3,
   "metadata": {
    "pycharm": {
     "is_executing": true,
     "name": "#%%\n"
    },
    "scrolled": true
   },
   "outputs": [
    {
     "name": "stdout",
     "output_type": "stream",
     "text": [
      "querying 1-1000...done.\n",
      "querying 1001-2000...done.\n",
      "querying 2001-3000...done.\n",
      "querying 3001-4000...done.\n",
      "querying 4001-5000...done.\n",
      "querying 5001-6000...done.\n",
      "querying 6001-7000...done.\n",
      "querying 7001-8000...done.\n",
      "querying 8001-9000...done.\n",
      "querying 9001-10000...done.\n",
      "querying 10001-11000...done.\n",
      "querying 11001-12000...done.\n",
      "querying 12001-13000...done.\n",
      "querying 13001-14000...done.\n",
      "querying 14001-15000...done.\n",
      "querying 15001-16000...done.\n",
      "querying 16001-17000...done.\n",
      "querying 17001-18000...done.\n",
      "querying 18001-19000...done.\n",
      "querying 19001-20000...done.\n",
      "querying 20001-21000...done.\n",
      "querying 21001-22000...done.\n",
      "querying 22001-23000...done.\n",
      "querying 23001-24000...done.\n",
      "querying 24001-25000...done.\n",
      "querying 25001-26000...done.\n",
      "querying 26001-27000...done.\n",
      "querying 27001-28000...done.\n",
      "querying 28001-29000...done.\n",
      "querying 29001-30000...done.\n",
      "querying 30001-31000...done.\n",
      "querying 31001-32000...done.\n",
      "querying 32001-33000...done.\n",
      "querying 33001-34000...done.\n",
      "querying 34001-35000...done.\n",
      "querying 35001-36000...done.\n",
      "querying 36001-37000...done.\n",
      "querying 37001-38000...done.\n",
      "querying 38001-39000...done.\n",
      "querying 39001-40000...done.\n",
      "querying 40001-41000...done.\n",
      "querying 41001-42000...done.\n",
      "querying 42001-43000...done.\n",
      "querying 43001-44000...done.\n",
      "querying 44001-45000...done.\n",
      "querying 45001-46000...done.\n",
      "querying 46001-47000...done.\n",
      "querying 47001-48000...done.\n",
      "querying 48001-49000...done.\n",
      "querying 49001-50000...done.\n",
      "querying 50001-51000...done.\n",
      "querying 51001-52000...done.\n",
      "querying 52001-53000...done.\n",
      "querying 53001-54000...done.\n",
      "querying 54001-55000...done.\n",
      "querying 55001-56000...done.\n",
      "querying 56001-57000...done.\n",
      "querying 57001-58000...done.\n",
      "querying 58001-59000...done.\n",
      "querying 59001-60000...done.\n",
      "querying 60001-61000...done.\n",
      "querying 61001-62000...done.\n",
      "querying 62001-63000...done.\n",
      "querying 63001-64000...done.\n",
      "querying 64001-65000...done.\n",
      "querying 65001-66000...done.\n",
      "querying 66001-67000...done.\n",
      "querying 67001-68000...done.\n",
      "querying 68001-68324...done.\n"
     ]
    },
    {
     "data": {
      "text/html": [
       "<div>\n",
       "<style scoped>\n",
       "    .dataframe tbody tr th:only-of-type {\n",
       "        vertical-align: middle;\n",
       "    }\n",
       "\n",
       "    .dataframe tbody tr th {\n",
       "        vertical-align: top;\n",
       "    }\n",
       "\n",
       "    .dataframe thead th {\n",
       "        text-align: right;\n",
       "    }\n",
       "</style>\n",
       "<table border=\"1\" class=\"dataframe\">\n",
       "  <thead>\n",
       "    <tr style=\"text-align: right;\">\n",
       "      <th></th>\n",
       "      <th>_id</th>\n",
       "      <th>_version</th>\n",
       "      <th>alias</th>\n",
       "      <th>name</th>\n",
       "      <th>summary</th>\n",
       "      <th>symbol</th>\n",
       "      <th>type_of_gene</th>\n",
       "      <th>notfound</th>\n",
       "    </tr>\n",
       "    <tr>\n",
       "      <th>ensembl_gene_id</th>\n",
       "      <th></th>\n",
       "      <th></th>\n",
       "      <th></th>\n",
       "      <th></th>\n",
       "      <th></th>\n",
       "      <th></th>\n",
       "      <th></th>\n",
       "      <th></th>\n",
       "    </tr>\n",
       "  </thead>\n",
       "  <tbody>\n",
       "    <tr>\n",
       "      <th>ENSG00000000003</th>\n",
       "      <td>7105</td>\n",
       "      <td>2.0</td>\n",
       "      <td>[T245, TM4SF6, TSPAN-6]</td>\n",
       "      <td>tetraspanin 6</td>\n",
       "      <td>The protein encoded by this gene is a member o...</td>\n",
       "      <td>TSPAN6</td>\n",
       "      <td>protein-coding</td>\n",
       "      <td>NaN</td>\n",
       "    </tr>\n",
       "    <tr>\n",
       "      <th>ENSG00000000005</th>\n",
       "      <td>64102</td>\n",
       "      <td>2.0</td>\n",
       "      <td>[BRICD4, CHM1L, TEM]</td>\n",
       "      <td>tenomodulin</td>\n",
       "      <td>This gene encodes a protein that is related to...</td>\n",
       "      <td>TNMD</td>\n",
       "      <td>protein-coding</td>\n",
       "      <td>NaN</td>\n",
       "    </tr>\n",
       "    <tr>\n",
       "      <th>ENSG00000000419</th>\n",
       "      <td>8813</td>\n",
       "      <td>2.0</td>\n",
       "      <td>[CDGIE, MPDS]</td>\n",
       "      <td>dolichyl-phosphate mannosyltransferase subunit...</td>\n",
       "      <td>Dolichol-phosphate mannose (Dol-P-Man) serves ...</td>\n",
       "      <td>DPM1</td>\n",
       "      <td>protein-coding</td>\n",
       "      <td>NaN</td>\n",
       "    </tr>\n",
       "    <tr>\n",
       "      <th>ENSG00000000457</th>\n",
       "      <td>57147</td>\n",
       "      <td>1.0</td>\n",
       "      <td>[PACE-1, PACE1]</td>\n",
       "      <td>SCY1 like pseudokinase 3</td>\n",
       "      <td>This gene encodes a protein with a kinase doma...</td>\n",
       "      <td>SCYL3</td>\n",
       "      <td>protein-coding</td>\n",
       "      <td>NaN</td>\n",
       "    </tr>\n",
       "    <tr>\n",
       "      <th>ENSG00000000460</th>\n",
       "      <td>55732</td>\n",
       "      <td>1.0</td>\n",
       "      <td>NaN</td>\n",
       "      <td>chromosome 1 open reading frame 112</td>\n",
       "      <td>NaN</td>\n",
       "      <td>C1orf112</td>\n",
       "      <td>protein-coding</td>\n",
       "      <td>NaN</td>\n",
       "    </tr>\n",
       "  </tbody>\n",
       "</table>\n",
       "</div>"
      ],
      "text/plain": [
       "                   _id  _version                    alias  \\\n",
       "ensembl_gene_id                                             \n",
       "ENSG00000000003   7105       2.0  [T245, TM4SF6, TSPAN-6]   \n",
       "ENSG00000000005  64102       2.0     [BRICD4, CHM1L, TEM]   \n",
       "ENSG00000000419   8813       2.0            [CDGIE, MPDS]   \n",
       "ENSG00000000457  57147       1.0          [PACE-1, PACE1]   \n",
       "ENSG00000000460  55732       1.0                      NaN   \n",
       "\n",
       "                                                              name  \\\n",
       "ensembl_gene_id                                                      \n",
       "ENSG00000000003                                      tetraspanin 6   \n",
       "ENSG00000000005                                        tenomodulin   \n",
       "ENSG00000000419  dolichyl-phosphate mannosyltransferase subunit...   \n",
       "ENSG00000000457                           SCY1 like pseudokinase 3   \n",
       "ENSG00000000460                chromosome 1 open reading frame 112   \n",
       "\n",
       "                                                           summary    symbol  \\\n",
       "ensembl_gene_id                                                                \n",
       "ENSG00000000003  The protein encoded by this gene is a member o...    TSPAN6   \n",
       "ENSG00000000005  This gene encodes a protein that is related to...      TNMD   \n",
       "ENSG00000000419  Dolichol-phosphate mannose (Dol-P-Man) serves ...      DPM1   \n",
       "ENSG00000000457  This gene encodes a protein with a kinase doma...     SCYL3   \n",
       "ENSG00000000460                                                NaN  C1orf112   \n",
       "\n",
       "                   type_of_gene notfound  \n",
       "ensembl_gene_id                           \n",
       "ENSG00000000003  protein-coding      NaN  \n",
       "ENSG00000000005  protein-coding      NaN  \n",
       "ENSG00000000419  protein-coding      NaN  \n",
       "ENSG00000000457  protein-coding      NaN  \n",
       "ENSG00000000460  protein-coding      NaN  "
      ]
     },
     "execution_count": 3,
     "metadata": {},
     "output_type": "execute_result"
    }
   ],
   "source": [
    "mg = mygene.MyGeneInfo()\n",
    "\n",
    "bioconductor_gene_info = mg.getgenes(ensemblIds['ensembl_gene_id'], fields=[\"symbol\", \"name\", \"summary\", \"type_of_gene\", \"alias\"], as_dataframe=True)\n",
    "bioconductor_gene_info.index.rename(\"ensembl_gene_id\", inplace=True)\n",
    "bioconductor_gene_info.head()"
   ]
  },
  {
   "cell_type": "code",
   "execution_count": 4,
   "metadata": {},
   "outputs": [
    {
     "data": {
      "text/plain": [
       "_id             0\n",
       "_version        0\n",
       "alias           0\n",
       "name            0\n",
       "summary         0\n",
       "symbol          0\n",
       "type_of_gene    0\n",
       "notfound        9\n",
       "dtype: int64"
      ]
     },
     "execution_count": 4,
     "metadata": {},
     "output_type": "execute_result"
    }
   ],
   "source": [
    "bioconductor_gene_info[bioconductor_gene_info['notfound'] == True].count()"
   ]
  },
  {
   "cell_type": "code",
   "execution_count": 5,
   "metadata": {
    "scrolled": true
   },
   "outputs": [
    {
     "data": {
      "text/plain": [
       "_id             68317\n",
       "_version        68317\n",
       "alias           25980\n",
       "name            49231\n",
       "summary         24434\n",
       "symbol          49231\n",
       "type_of_gene    39583\n",
       "notfound            0\n",
       "dtype: int64"
      ]
     },
     "execution_count": 5,
     "metadata": {},
     "output_type": "execute_result"
    }
   ],
   "source": [
    "bioconductor_gene_info[bioconductor_gene_info['notfound'].isna()].count()"
   ]
  },
  {
   "cell_type": "code",
   "execution_count": 6,
   "metadata": {},
   "outputs": [
    {
     "data": {
      "text/plain": [
       "Index(['_id', '_version', 'alias', 'name', 'summary', 'symbol', 'type_of_gene',\n",
       "       'notfound'],\n",
       "      dtype='object')"
      ]
     },
     "execution_count": 6,
     "metadata": {},
     "output_type": "execute_result"
    }
   ],
   "source": [
    "bioconductor_gene_info.columns"
   ]
  },
  {
   "cell_type": "markdown",
   "metadata": {},
   "source": [
    "We join, and then stardardize our datasets:"
   ]
  },
  {
   "cell_type": "code",
   "execution_count": 7,
   "metadata": {
    "pycharm": {
     "is_executing": true,
     "name": "#%%\n"
    }
   },
   "outputs": [
    {
     "data": {
      "text/plain": [
       "(68326, 9)"
      ]
     },
     "execution_count": 7,
     "metadata": {},
     "output_type": "execute_result"
    }
   ],
   "source": [
    "gene_table_merged = pd.merge(left=ensemblIds, right=bioconductor_gene_info, how='left', on=\"ensembl_gene_id\")\n",
    "gene_table_merged.columns = gene_table_merged.columns.str.replace(\"[#,@,&,*,^,?,(,),%,$,#,!,/]\", \"\", regex = True)\n",
    "gene_table_merged.columns = gene_table_merged.columns.str.replace(\"[' ', '-', '.']\", \"_\", regex = True)\n",
    "gene_table_merged.columns = map(str.lower, gene_table_merged.columns)\n",
    "\n",
    "\n",
    "# the next two lines would be relevant if we wanted to bring in the go.MF field.  Since we do not, they're commented out.  Older datasets should still contain them, so I'm providing the logic in case you see those.\n",
    "# gene_table_merged[\"go_mf\"] = gene_table_merged[\"go_mf\"].fillna('').astype(str)\n",
    "# gene_table_merged[\"go_mf_pubmed\"] = gene_table_merged[\"go_mf_pubmed\"].fillna(np.nan).apply(lambda x: x if type(x) is None or type(x) is list else [x])\n",
    "\n",
    "gene_table_merged.shape"
   ]
  },
  {
   "cell_type": "code",
   "execution_count": 8,
   "metadata": {},
   "outputs": [
    {
     "data": {
      "text/plain": [
       "Index(['ensembl_gene_id', '_id', '_version', 'alias', 'name', 'summary',\n",
       "       'symbol', 'type_of_gene', 'notfound'],\n",
       "      dtype='object')"
      ]
     },
     "execution_count": 8,
     "metadata": {},
     "output_type": "execute_result"
    }
   ],
   "source": [
    "gene_table_merged.columns"
   ]
  },
  {
   "cell_type": "markdown",
   "metadata": {},
   "source": [
    "It's important that we check the values here.  We expect the index to be populated for every row (in other words, it should match the row count of the previous cell), while missing values on the other columns are expected.  The 'notfound' column should be an indicator that querying for that particular gene yielded no result.  Therefore, columns used for internal purposes (the ones starting in underscore) should contain the same number of missing values."
   ]
  },
  {
   "cell_type": "code",
   "execution_count": 9,
   "metadata": {},
   "outputs": [
    {
     "name": "stdout",
     "output_type": "stream",
     "text": [
      "Missing values from ensembl_gene_id: 0\n",
      "Missing values from _id: 9\n",
      "Missing values from _version: 9\n",
      "Missing values from alias: 42346\n",
      "Missing values from name: 19095\n",
      "Missing values from summary: 43892\n",
      "Missing values from symbol: 19095\n",
      "Missing values from type_of_gene: 28743\n",
      "Missing values from notfound: 68317\n"
     ]
    },
    {
     "data": {
      "text/plain": [
       "(9, 9)"
      ]
     },
     "execution_count": 9,
     "metadata": {},
     "output_type": "execute_result"
    }
   ],
   "source": [
    "for col in gene_table_merged.columns:\n",
    "    print(\"Missing values from \" + col + \": \" + str(gene_table_merged[col].isna().sum()))\n",
    "    \n",
    "not_found = gene_table_merged[gene_table_merged['notfound'].notna()]\n",
    "not_found.shape"
   ]
  },
  {
   "cell_type": "markdown",
   "metadata": {
    "pycharm": {
     "is_executing": true
    }
   },
   "source": [
    "Most importantly, we would like to make sure that there's no information in the other columns every time 'notfound' is True.  That will ensure the cleanliness of the dataset."
   ]
  },
  {
   "cell_type": "code",
   "execution_count": 10,
   "metadata": {
    "pycharm": {
     "is_executing": true
    }
   },
   "outputs": [
    {
     "name": "stdout",
     "output_type": "stream",
     "text": [
      "0\n",
      "0\n",
      "0\n",
      "0\n",
      "0\n"
     ]
    }
   ],
   "source": [
    "interesting_columns = [col for col in not_found.columns if '_' not in col[0]] # all columns that don't start with _\n",
    "interesting_columns.remove('ensembl_gene_id')\n",
    "interesting_columns.remove('notfound')\n",
    "\n",
    "for col in interesting_columns:\n",
    "    print(not_found[not_found[col].notna()].shape[0])"
   ]
  },
  {
   "cell_type": "code",
   "execution_count": 11,
   "metadata": {},
   "outputs": [
    {
     "data": {
      "text/plain": [
       "Index(['ensembl_gene_id', '_id', '_version', 'alias', 'name', 'summary',\n",
       "       'symbol', 'type_of_gene', 'notfound'],\n",
       "      dtype='object')"
      ]
     },
     "execution_count": 11,
     "metadata": {},
     "output_type": "execute_result"
    }
   ],
   "source": [
    "gene_table_merged.columns"
   ]
  },
  {
   "cell_type": "code",
   "execution_count": 12,
   "metadata": {},
   "outputs": [
    {
     "data": {
      "text/html": [
       "<div>\n",
       "<style scoped>\n",
       "    .dataframe tbody tr th:only-of-type {\n",
       "        vertical-align: middle;\n",
       "    }\n",
       "\n",
       "    .dataframe tbody tr th {\n",
       "        vertical-align: top;\n",
       "    }\n",
       "\n",
       "    .dataframe thead th {\n",
       "        text-align: right;\n",
       "    }\n",
       "</style>\n",
       "<table border=\"1\" class=\"dataframe\">\n",
       "  <thead>\n",
       "    <tr style=\"text-align: right;\">\n",
       "      <th></th>\n",
       "      <th>ensembl_gene_id</th>\n",
       "      <th>_id</th>\n",
       "      <th>_version</th>\n",
       "      <th>alias</th>\n",
       "      <th>name</th>\n",
       "      <th>summary</th>\n",
       "      <th>symbol</th>\n",
       "      <th>type_of_gene</th>\n",
       "      <th>notfound</th>\n",
       "    </tr>\n",
       "  </thead>\n",
       "  <tbody>\n",
       "    <tr>\n",
       "      <th>0</th>\n",
       "      <td>ENSG00000000003</td>\n",
       "      <td>7105</td>\n",
       "      <td>2.0</td>\n",
       "      <td>[T245, TM4SF6, TSPAN-6]</td>\n",
       "      <td>tetraspanin 6</td>\n",
       "      <td>The protein encoded by this gene is a member o...</td>\n",
       "      <td>TSPAN6</td>\n",
       "      <td>protein-coding</td>\n",
       "      <td>NaN</td>\n",
       "    </tr>\n",
       "    <tr>\n",
       "      <th>1</th>\n",
       "      <td>ENSG00000000005</td>\n",
       "      <td>64102</td>\n",
       "      <td>2.0</td>\n",
       "      <td>[BRICD4, CHM1L, TEM]</td>\n",
       "      <td>tenomodulin</td>\n",
       "      <td>This gene encodes a protein that is related to...</td>\n",
       "      <td>TNMD</td>\n",
       "      <td>protein-coding</td>\n",
       "      <td>NaN</td>\n",
       "    </tr>\n",
       "    <tr>\n",
       "      <th>2</th>\n",
       "      <td>ENSG00000000419</td>\n",
       "      <td>8813</td>\n",
       "      <td>2.0</td>\n",
       "      <td>[CDGIE, MPDS]</td>\n",
       "      <td>dolichyl-phosphate mannosyltransferase subunit...</td>\n",
       "      <td>Dolichol-phosphate mannose (Dol-P-Man) serves ...</td>\n",
       "      <td>DPM1</td>\n",
       "      <td>protein-coding</td>\n",
       "      <td>NaN</td>\n",
       "    </tr>\n",
       "    <tr>\n",
       "      <th>3</th>\n",
       "      <td>ENSG00000000457</td>\n",
       "      <td>57147</td>\n",
       "      <td>1.0</td>\n",
       "      <td>[PACE-1, PACE1]</td>\n",
       "      <td>SCY1 like pseudokinase 3</td>\n",
       "      <td>This gene encodes a protein with a kinase doma...</td>\n",
       "      <td>SCYL3</td>\n",
       "      <td>protein-coding</td>\n",
       "      <td>NaN</td>\n",
       "    </tr>\n",
       "    <tr>\n",
       "      <th>4</th>\n",
       "      <td>ENSG00000000460</td>\n",
       "      <td>55732</td>\n",
       "      <td>1.0</td>\n",
       "      <td>NaN</td>\n",
       "      <td>chromosome 1 open reading frame 112</td>\n",
       "      <td>NaN</td>\n",
       "      <td>C1orf112</td>\n",
       "      <td>protein-coding</td>\n",
       "      <td>NaN</td>\n",
       "    </tr>\n",
       "  </tbody>\n",
       "</table>\n",
       "</div>"
      ],
      "text/plain": [
       "   ensembl_gene_id    _id  _version                    alias  \\\n",
       "0  ENSG00000000003   7105       2.0  [T245, TM4SF6, TSPAN-6]   \n",
       "1  ENSG00000000005  64102       2.0     [BRICD4, CHM1L, TEM]   \n",
       "2  ENSG00000000419   8813       2.0            [CDGIE, MPDS]   \n",
       "3  ENSG00000000457  57147       1.0          [PACE-1, PACE1]   \n",
       "4  ENSG00000000460  55732       1.0                      NaN   \n",
       "\n",
       "                                                name  \\\n",
       "0                                      tetraspanin 6   \n",
       "1                                        tenomodulin   \n",
       "2  dolichyl-phosphate mannosyltransferase subunit...   \n",
       "3                           SCY1 like pseudokinase 3   \n",
       "4                chromosome 1 open reading frame 112   \n",
       "\n",
       "                                             summary    symbol  \\\n",
       "0  The protein encoded by this gene is a member o...    TSPAN6   \n",
       "1  This gene encodes a protein that is related to...      TNMD   \n",
       "2  Dolichol-phosphate mannose (Dol-P-Man) serves ...      DPM1   \n",
       "3  This gene encodes a protein with a kinase doma...     SCYL3   \n",
       "4                                                NaN  C1orf112   \n",
       "\n",
       "     type_of_gene notfound  \n",
       "0  protein-coding      NaN  \n",
       "1  protein-coding      NaN  \n",
       "2  protein-coding      NaN  \n",
       "3  protein-coding      NaN  \n",
       "4  protein-coding      NaN  "
      ]
     },
     "execution_count": 12,
     "metadata": {},
     "output_type": "execute_result"
    }
   ],
   "source": [
    "gene_table_merged.head()"
   ]
  },
  {
   "cell_type": "markdown",
   "metadata": {},
   "source": [
    "Lastly, we fix NULL values in the \"alias\" field and write our feather file:"
   ]
  },
  {
   "cell_type": "code",
   "execution_count": 13,
   "metadata": {
    "pycharm": {
     "is_executing": true,
     "name": "#%%\n"
    },
    "scrolled": true
   },
   "outputs": [
    {
     "name": "stdout",
     "output_type": "stream",
     "text": [
      "(68326, 9)\n"
     ]
    }
   ],
   "source": [
    "for row in gene_table_merged.loc[gene_table_merged['alias'].isnull(), 'alias'].index:\n",
    "    gene_table_merged.at[row, 'alias'] = []\n",
    "\n",
    "gene_table_merged['alias'] = gene_table_merged['alias'].apply(lambda cell: cell if isinstance(cell, list) else [cell])\n",
    "# gene_table_merged[gene_table_merged['alias'].map(type) == float]\n",
    "# set(gene_table_merged['alias'].map(type))\n",
    "\n",
    "print(gene_table_merged.shape)\n",
    "\n",
    "# gene_table_merged_py.to_feather('../output/gene_table_merged_py.feather')\n",
    "gene_table_merged.to_feather('../output/gene_table_merged_GRCh38.p13.feather')"
   ]
  }
 ],
 "metadata": {
  "kernelspec": {
   "display_name": "Python [conda env:agora]",
   "language": "python",
   "name": "conda-env-agora-py"
  },
  "language_info": {
   "codemirror_mode": {
    "name": "ipython",
    "version": 3
   },
   "file_extension": ".py",
   "mimetype": "text/x-python",
   "name": "python",
   "nbconvert_exporter": "python",
   "pygments_lexer": "ipython3",
   "version": "3.10.4"
  }
 },
 "nbformat": 4,
 "nbformat_minor": 1
}
